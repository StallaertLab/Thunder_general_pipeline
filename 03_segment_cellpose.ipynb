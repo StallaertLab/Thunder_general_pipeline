{
 "cells": [
  {
   "cell_type": "markdown",
   "metadata": {},
   "source": [
    "## Run Cellpose to segment images.\n",
    "\n",
    "Save mask format to uint32 if it's possible that more than 65536 are detected in a single image."
   ]
  },
  {
   "cell_type": "code",
   "execution_count": 1,
   "metadata": {},
   "outputs": [
    {
     "data": {
      "text/plain": [
       "True"
      ]
     },
     "execution_count": 1,
     "metadata": {},
     "output_type": "execute_result"
    }
   ],
   "source": [
    "import os\n",
    "from tifffile import imwrite, imread\n",
    "from cellpose import models\n",
    "\n",
    "import torch\n",
    "torch.cuda.is_available()"
   ]
  },
  {
   "cell_type": "code",
   "execution_count": 2,
   "metadata": {},
   "outputs": [],
   "source": [
    "# open lif image\n",
    "input_dir = r''\n",
    "output_dir = r''\n",
    "\n",
    "selected_channel = 'DAPI1'"
   ]
  },
  {
   "cell_type": "code",
   "execution_count": 3,
   "metadata": {},
   "outputs": [
    {
     "data": {
      "text/plain": [
       "['A1_ashlar_DAPI1.tif',\n",
       " 'A4_ashlar_DAPI1.tif',\n",
       " 'A5_ashlar_DAPI1.tif',\n",
       " 'B11_ashlar_DAPI1.tif',\n",
       " 'B7_ashlar_DAPI1.tif',\n",
       " 'B8_ashlar_DAPI1.tif',\n",
       " 'C10_ashlar_DAPI1.tif',\n",
       " 'D2_ashlar_DAPI1.tif',\n",
       " 'D3_ashlar_DAPI1.tif',\n",
       " 'D9_ashlar_DAPI1.tif',\n",
       " 'E4_ashlar_DAPI1.tif',\n",
       " 'E5_ashlar_DAPI1.tif',\n",
       " 'F11_ashlar_DAPI1.tif',\n",
       " 'F9_ashlar_DAPI1.tif',\n",
       " 'G10_ashlar_DAPI1.tif',\n",
       " 'G2_ashlar_DAPI1.tif',\n",
       " 'H1_ashlar_DAPI1.tif',\n",
       " 'H3_ashlar_DAPI1.tif',\n",
       " 'H7_ashlar_DAPI1.tif',\n",
       " 'H8_ashlar_DAPI1.tif']"
      ]
     },
     "execution_count": 3,
     "metadata": {},
     "output_type": "execute_result"
    }
   ],
   "source": [
    "# find images to process\n",
    "# add additional restrictions if required\n",
    "file_list = [x for x in os.listdir(input_dir) if selected_channel in x]\n",
    "file_list"
   ]
  },
  {
   "cell_type": "code",
   "execution_count": 4,
   "metadata": {},
   "outputs": [],
   "source": [
    "model = models.Cellpose(model_type='nuclei',gpu=True)"
   ]
  },
  {
   "cell_type": "code",
   "execution_count": null,
   "metadata": {},
   "outputs": [],
   "source": [
    "# segment each well\n",
    "for im_name in file_list:\n",
    "\n",
    "    print(im_name)\n",
    "\n",
    "    im = imread(os.path.join(input_dir,im_name))\n",
    "\n",
    "    # segmentation\n",
    "    masks, _, _, _ = model.eval(im, diameter=80)\n",
    "\n",
    "    # save mask\n",
    "    save_path = os.path.join(output_dir,im_name.split('_')[0]+'_mask.tif')\n",
    "    imwrite(save_path, masks.astype('uint16'))\t"
   ]
  }
 ],
 "metadata": {
  "kernelspec": {
   "display_name": "lif-env",
   "language": "python",
   "name": "python3"
  },
  "language_info": {
   "codemirror_mode": {
    "name": "ipython",
    "version": 3
   },
   "file_extension": ".py",
   "mimetype": "text/x-python",
   "name": "python",
   "nbconvert_exporter": "python",
   "pygments_lexer": "ipython3",
   "version": "3.10.14"
  }
 },
 "nbformat": 4,
 "nbformat_minor": 2
}
