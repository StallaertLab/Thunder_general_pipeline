{
 "cells": [
  {
   "cell_type": "markdown",
   "metadata": {},
   "source": [
    "## Correct illumination using BaSiC algorithm \n",
    "\n",
    "Illumination pattern is caclulated for each channel (all wells together). \n",
    "\n",
    "For an experiment imaging entire wells run on CTRL or limit the number of tiles to calculate the illumination pattern."
   ]
  },
  {
   "cell_type": "code",
   "execution_count": 1,
   "metadata": {},
   "outputs": [],
   "source": [
    "import os\n",
    "import random\n",
    "from tifffile import imwrite, imread\n",
    "from readlif.reader import LifFile\n",
    "import napari\n",
    "import numpy as np\n",
    "from dask import delayed\n",
    "import dask.array as da\n",
    "\n",
    "from basicpy import BaSiC"
   ]
  },
  {
   "cell_type": "code",
   "execution_count": 2,
   "metadata": {},
   "outputs": [],
   "source": [
    "# define input and output pathway\n",
    "im_dir = r'' # pathway to the directory containing tiled images \n",
    "\n",
    "save_dir = r'' # pathway to the output directory where corrected tiles will be stored  \n",
    "save_basic_dir = r'' # pathway to store illumination patterns for quality control \n",
    "\n",
    "# experiment rounds to be analyzed\n",
    "round_list = [] # example ['00','01']\n",
    "\n",
    "# specify how many tiles will be used to calculate illumination pattern\n",
    "# if set to 0, the illumination pattern will be calculated from the entire image\n",
    "tile_number = 0"
   ]
  },
  {
   "cell_type": "code",
   "execution_count": null,
   "metadata": {},
   "outputs": [],
   "source": [
    "for r in round_list:\n",
    "\n",
    "    channel_list  = set([f[f.index('ch_')+3:][:2] for f in os.listdir(im_dir) if (f'r_{r}' in f)])\n",
    "\n",
    "    for ch in channel_list:\n",
    "\n",
    "        print(f'Processing round {r}, channel {ch}.')\n",
    "\n",
    "        im_files = [os.path.join(im_dir, f) for f in os.listdir(im_dir) if (f'r_{r}_ch_{ch}' in f)]\n",
    "\n",
    "        # read in images\n",
    "        im_list = []\n",
    "        for im_name in im_files:\n",
    "            im = imread(im_name)\n",
    "            im_list.append(im)\n",
    "\n",
    "        # select signal images\n",
    "        im_sel = []\n",
    "        name_sel = []\n",
    "        for im,im_name in zip(im_list,im_files):\n",
    "            if (np.max(im)>0):\n",
    "                im_sel.append(im)\n",
    "                name_sel.append(im_name)\n",
    "            else:\n",
    "                imwrite(os.path.join(save_dir, os.path.basename(im_name)), im.astype('uint16'))\n",
    "        \n",
    "        im_test = np.array(im_sel)\n",
    "\n",
    "        # remove high signal artifacts\n",
    "        im_pattern_list = []\n",
    "        for im in im_sel:\n",
    "            if (np.percentile(im,99)<(2**16-1)):\n",
    "                im_pattern_list.append(im)\n",
    "\n",
    "        im_pattern = np.array(im_pattern_list)\n",
    "\n",
    "        # find illumination pattern with BaSiC\n",
    "        basic = BaSiC(get_darkfield=False, smoothness_flatfield=1, smoothness_darkfield=1)\n",
    "        if tile_number > 0:\n",
    "            basic.fit(np.array(random.sample(im_pattern_list,tile_number)))\n",
    "        else:\n",
    "            basic.fit(im_pattern)\n",
    "\n",
    "        images_transformed = basic.transform(im_test)\n",
    "\n",
    "        # save basic fields\n",
    "        imwrite(os.path.join(save_basic_dir, f'r_{r}_ch_{ch}_flatfield_basic.tif'), basic.flatfield)\n",
    "        imwrite(os.path.join(save_basic_dir, f'r_{r}_ch_{ch}_darkfield_basic.tif'), basic.darkfield)\n",
    "\n",
    "        # save tiles\n",
    "        for im,im_name in zip(images_transformed,name_sel):\n",
    "            imwrite(os.path.join(save_dir, os.path.basename(im_name)), im.astype('uint16'))\n"
   ]
  }
 ],
 "metadata": {
  "kernelspec": {
   "display_name": "lif-env",
   "language": "python",
   "name": "python3"
  },
  "language_info": {
   "codemirror_mode": {
    "name": "ipython",
    "version": 3
   },
   "file_extension": ".py",
   "mimetype": "text/x-python",
   "name": "python",
   "nbconvert_exporter": "python",
   "pygments_lexer": "ipython3",
   "version": "3.10.14"
  }
 },
 "nbformat": 4,
 "nbformat_minor": 2
}
