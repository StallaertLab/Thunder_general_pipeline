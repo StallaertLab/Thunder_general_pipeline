{
 "cells": [
  {
   "cell_type": "markdown",
   "metadata": {},
   "source": [
    "## Quantify regions using regionprops"
   ]
  },
  {
   "cell_type": "code",
   "execution_count": 1,
   "metadata": {},
   "outputs": [],
   "source": [
    "import os\n",
    "import pandas as pd\n",
    "import numpy as np\n",
    "from tifffile import imread\n",
    "from skimage.measure import regionprops_table "
   ]
  },
  {
   "cell_type": "code",
   "execution_count": 2,
   "metadata": {},
   "outputs": [],
   "source": [
    "im_dir = r''\n",
    "mask_dir = r''\n",
    "\n",
    "output_path = r''\n",
    "\n",
    "im_properties = ('label', 'area', 'centroid', 'bbox','mean_intensity', 'eccentricity', 'solidity')"
   ]
  },
  {
   "cell_type": "code",
   "execution_count": 3,
   "metadata": {},
   "outputs": [
    {
     "data": {
      "text/plain": [
       "['A1',\n",
       " 'A4',\n",
       " 'A5',\n",
       " 'B11',\n",
       " 'B7',\n",
       " 'C10',\n",
       " 'D2',\n",
       " 'D3',\n",
       " 'D9',\n",
       " 'E4',\n",
       " 'E5',\n",
       " 'F11',\n",
       " 'G10',\n",
       " 'H1',\n",
       " 'H3',\n",
       " 'H7',\n",
       " 'H8']"
      ]
     },
     "execution_count": 3,
     "metadata": {},
     "output_type": "execute_result"
    }
   ],
   "source": [
    "# optional - exclude wells with no cells\n",
    "\n",
    "exclude_wells = [] # example ['B8','F9','G2']\n",
    "well_list = [x.split('_')[0] for x in os.listdir(mask_dir) if not(x.split('_')[0] in exclude_wells)]\n",
    "well_list"
   ]
  },
  {
   "cell_type": "code",
   "execution_count": 4,
   "metadata": {},
   "outputs": [
    {
     "data": {
      "text/plain": [
       "['DAPI2', 'pH3', 'pCDK1', 'DAPI1', 'RB', 'Cdc25c', 'p21', 'Fib']"
      ]
     },
     "execution_count": 4,
     "metadata": {},
     "output_type": "execute_result"
    }
   ],
   "source": [
    "signal_list = list(set([x.split('_')[-1][:-4] for x in os.listdir(im_dir)]))\n",
    "signal_list"
   ]
  },
  {
   "cell_type": "code",
   "execution_count": 5,
   "metadata": {},
   "outputs": [],
   "source": [
    "def obj_median(mask,image):\n",
    "    return np.median(image[mask])"
   ]
  },
  {
   "cell_type": "code",
   "execution_count": 6,
   "metadata": {},
   "outputs": [
    {
     "name": "stdout",
     "output_type": "stream",
     "text": [
      "A1 DAPI2\n",
      "A1 pH3\n",
      "A1 pCDK1\n",
      "A1 DAPI1\n",
      "A1 RB\n",
      "A1 Cdc25c\n",
      "A1 p21\n",
      "A1 Fib\n",
      "A4 DAPI2\n",
      "A4 pH3\n",
      "A4 pCDK1\n",
      "A4 DAPI1\n",
      "A4 RB\n",
      "A4 Cdc25c\n",
      "A4 p21\n",
      "A4 Fib\n",
      "A5 DAPI2\n",
      "A5 pH3\n",
      "A5 pCDK1\n",
      "A5 DAPI1\n",
      "A5 RB\n",
      "A5 Cdc25c\n",
      "A5 p21\n",
      "A5 Fib\n",
      "B11 DAPI2\n",
      "B11 pH3\n",
      "B11 pCDK1\n",
      "B11 DAPI1\n",
      "B11 RB\n",
      "B11 Cdc25c\n",
      "B11 p21\n",
      "B11 Fib\n",
      "B7 DAPI2\n",
      "B7 pH3\n",
      "B7 pCDK1\n",
      "B7 DAPI1\n",
      "B7 RB\n",
      "B7 Cdc25c\n",
      "B7 p21\n",
      "B7 Fib\n",
      "C10 DAPI2\n",
      "C10 pH3\n",
      "C10 pCDK1\n",
      "C10 DAPI1\n",
      "C10 RB\n",
      "C10 Cdc25c\n",
      "C10 p21\n",
      "C10 Fib\n",
      "D2 DAPI2\n",
      "D2 pH3\n",
      "D2 pCDK1\n",
      "D2 DAPI1\n",
      "D2 RB\n",
      "D2 Cdc25c\n",
      "D2 p21\n",
      "D2 Fib\n",
      "D3 DAPI2\n",
      "D3 pH3\n",
      "D3 pCDK1\n",
      "D3 DAPI1\n",
      "D3 RB\n",
      "D3 Cdc25c\n",
      "D3 p21\n",
      "D3 Fib\n",
      "D9 DAPI2\n",
      "D9 pH3\n",
      "D9 pCDK1\n",
      "D9 DAPI1\n",
      "D9 RB\n",
      "D9 Cdc25c\n",
      "D9 p21\n",
      "D9 Fib\n",
      "E4 DAPI2\n",
      "E4 pH3\n",
      "E4 pCDK1\n",
      "E4 DAPI1\n",
      "E4 RB\n",
      "E4 Cdc25c\n",
      "E4 p21\n",
      "E4 Fib\n",
      "E5 DAPI2\n",
      "E5 pH3\n",
      "E5 pCDK1\n",
      "E5 DAPI1\n",
      "E5 RB\n",
      "E5 Cdc25c\n",
      "E5 p21\n",
      "E5 Fib\n",
      "F11 DAPI2\n",
      "F11 pH3\n",
      "F11 pCDK1\n",
      "F11 DAPI1\n",
      "F11 RB\n",
      "F11 Cdc25c\n",
      "F11 p21\n",
      "F11 Fib\n",
      "G10 DAPI2\n",
      "G10 pH3\n",
      "G10 pCDK1\n",
      "G10 DAPI1\n",
      "G10 RB\n",
      "G10 Cdc25c\n",
      "G10 p21\n",
      "G10 Fib\n",
      "H1 DAPI2\n",
      "H1 pH3\n",
      "H1 pCDK1\n",
      "H1 DAPI1\n",
      "H1 RB\n",
      "H1 Cdc25c\n",
      "H1 p21\n",
      "H1 Fib\n",
      "H3 DAPI2\n",
      "H3 pH3\n",
      "H3 pCDK1\n",
      "H3 DAPI1\n",
      "H3 RB\n",
      "H3 Cdc25c\n",
      "H3 p21\n",
      "H3 Fib\n",
      "H7 DAPI2\n",
      "H7 pH3\n",
      "H7 pCDK1\n",
      "H7 DAPI1\n",
      "H7 RB\n",
      "H7 Cdc25c\n",
      "H7 p21\n",
      "H7 Fib\n",
      "H8 DAPI2\n",
      "H8 pH3\n",
      "H8 pCDK1\n",
      "H8 DAPI1\n",
      "H8 RB\n",
      "H8 Cdc25c\n",
      "H8 p21\n",
      "H8 Fib\n"
     ]
    }
   ],
   "source": [
    "df_list = []\n",
    "for well in well_list:\n",
    "\n",
    "    # get the mask\n",
    "    mask_path = os.path.join(mask_dir, f'{well}_mask.tif')\n",
    "    mask = imread(mask_path)\n",
    "\n",
    "    im_list = []\n",
    "    for signal in signal_list:\n",
    "        print(well, signal)\n",
    "        im_name = [x for x in os.listdir(im_dir) if (x.startswith(well)==True and (signal in x))][0]\n",
    "        im_path = os.path.join(im_dir, im_name)\n",
    "        im = imread(im_path)\n",
    "        im_list.append(im)\n",
    "\n",
    "    im = np.array(im_list)\n",
    "    im = np.moveaxis(im,0,2)\n",
    "        \n",
    "    props = regionprops_table(mask, im, properties=im_properties,extra_properties=(obj_median,))\n",
    "    df = pd.DataFrame(props)\n",
    "\n",
    "    df['well'] = well\n",
    "\n",
    "    # calculate background\n",
    "    med = np.median(im,axis=(0,1))\n",
    "    for i,signal in enumerate(signal_list):\n",
    "        df[f'bck_{signal}'] = med[i]\n",
    "\n",
    "    df_list.append(df)\n",
    "\n",
    "df = pd.concat(df_list)"
   ]
  },
  {
   "cell_type": "markdown",
   "metadata": {},
   "source": [
    "### Raname mean and median columns to include signal names"
   ]
  },
  {
   "cell_type": "code",
   "execution_count": 9,
   "metadata": {},
   "outputs": [],
   "source": [
    "ind = 0\n",
    "ind_med = 0\n",
    "new_cols = []\n",
    "for col in df.columns:\n",
    "    if 'mean_intensity' in col:\n",
    "        col = 'mean_'+signal_list[ind]\n",
    "        ind += 1\n",
    "        new_cols.append(col)\n",
    "    elif 'obj_median' in col:\n",
    "        col = 'med_'+signal_list[ind_med]\n",
    "        ind_med += 1\n",
    "        new_cols.append(col)\n",
    "    else:\n",
    "        new_cols.append(col)"
   ]
  },
  {
   "cell_type": "code",
   "execution_count": 10,
   "metadata": {},
   "outputs": [
    {
     "data": {
      "text/plain": [
       "['label',\n",
       " 'area',\n",
       " 'centroid-0',\n",
       " 'centroid-1',\n",
       " 'bbox-0',\n",
       " 'bbox-1',\n",
       " 'bbox-2',\n",
       " 'bbox-3',\n",
       " 'mean_DAPI2',\n",
       " 'mean_pH3',\n",
       " 'mean_pCDK1',\n",
       " 'mean_DAPI1',\n",
       " 'mean_RB',\n",
       " 'mean_Cdc25c',\n",
       " 'mean_p21',\n",
       " 'mean_Fib',\n",
       " 'eccentricity',\n",
       " 'solidity',\n",
       " 'med_DAPI2',\n",
       " 'med_pH3',\n",
       " 'med_pCDK1',\n",
       " 'med_DAPI1',\n",
       " 'med_RB',\n",
       " 'med_Cdc25c',\n",
       " 'med_p21',\n",
       " 'med_Fib',\n",
       " 'well']"
      ]
     },
     "execution_count": 10,
     "metadata": {},
     "output_type": "execute_result"
    }
   ],
   "source": [
    "new_cols"
   ]
  },
  {
   "cell_type": "code",
   "execution_count": 11,
   "metadata": {},
   "outputs": [],
   "source": [
    "df.columns = new_cols"
   ]
  },
  {
   "cell_type": "code",
   "execution_count": 12,
   "metadata": {},
   "outputs": [],
   "source": [
    "df.to_csv(output_path,index=False)"
   ]
  }
 ],
 "metadata": {
  "kernelspec": {
   "display_name": "lif2-env",
   "language": "python",
   "name": "python3"
  },
  "language_info": {
   "codemirror_mode": {
    "name": "ipython",
    "version": 3
   },
   "file_extension": ".py",
   "mimetype": "text/x-python",
   "name": "python",
   "nbconvert_exporter": "python",
   "pygments_lexer": "ipython3",
   "version": "3.10.14"
  }
 },
 "nbformat": 4,
 "nbformat_minor": 2
}
